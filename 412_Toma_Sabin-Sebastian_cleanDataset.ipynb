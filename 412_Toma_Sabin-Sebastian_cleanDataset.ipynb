{
 "cells": [
  {
   "cell_type": "code",
   "execution_count": 4,
   "id": "d563e9a6",
   "metadata": {},
   "outputs": [],
   "source": [
    "import pandas as pd\n",
    "import re\n",
    "import nltk\n",
    "from nltk.corpus import stopwords\n",
    "from nltk.stem import WordNetLemmatizer\n",
    "import os"
   ]
  },
  {
   "cell_type": "code",
   "execution_count": null,
   "id": "790304cc",
   "metadata": {},
   "outputs": [
    {
     "name": "stderr",
     "output_type": "stream",
     "text": [
      "[nltk_data] Downloading package stopwords to\n",
      "[nltk_data]     C:\\Users\\User\\AppData\\Roaming\\nltk_data...\n",
      "[nltk_data]   Package stopwords is already up-to-date!\n",
      "[nltk_data] Downloading package punkt to\n",
      "[nltk_data]     C:\\Users\\User\\AppData\\Roaming\\nltk_data...\n",
      "[nltk_data]   Package punkt is already up-to-date!\n",
      "[nltk_data] Downloading package wordnet to\n",
      "[nltk_data]     C:\\Users\\User\\AppData\\Roaming\\nltk_data...\n",
      "[nltk_data]   Package wordnet is already up-to-date!\n"
     ]
    },
    {
     "data": {
      "text/plain": [
       "True"
      ]
     },
     "execution_count": 5,
     "metadata": {},
     "output_type": "execute_result"
    }
   ],
   "source": [
    "nltk.download('stopwords')\n",
    "nltk.download('punkt')\n",
    "nltk.download('wordnet')"
   ]
  },
  {
   "cell_type": "code",
   "execution_count": null,
   "id": "efa7e1ad",
   "metadata": {},
   "outputs": [
    {
     "name": "stderr",
     "output_type": "stream",
     "text": [
      "C:\\Users\\User\\AppData\\Local\\Temp\\ipykernel_9100\\2372812960.py:4: SettingWithCopyWarning: \n",
      "A value is trying to be set on a copy of a slice from a DataFrame\n",
      "\n",
      "See the caveats in the documentation: https://pandas.pydata.org/pandas-docs/stable/user_guide/indexing.html#returning-a-view-versus-a-copy\n",
      "  df_cleaned.drop(columns=['Time'], inplace=True)\n"
     ]
    }
   ],
   "source": [
    "df = pd.read_csv('date/Reviews.csv')\n",
    "\n",
    "df['ReadableTime'] = pd.to_datetime(df['Time'], unit='s')\n",
    "df_cleaned = df.dropna()\n",
    "df_cleaned.drop(columns=['Time'], inplace=True)"
   ]
  },
  {
   "cell_type": "code",
   "execution_count": 15,
   "id": "43921772",
   "metadata": {},
   "outputs": [
    {
     "name": "stdout",
     "output_type": "stream",
     "text": [
      "Empty DataFrame\n",
      "Columns: [Id, Score, Summary]\n",
      "Index: []\n",
      "Total rows with Score > 5: 0\n"
     ]
    }
   ],
   "source": [
    "df['Score'] = pd.to_numeric(df['Score'], errors='coerce')\n",
    "rows_over_5 = df[df['Score'] > 5]\n",
    "print(rows_over_5[['Id', 'Score', 'Summary']].head(10))\n",
    "print(f\"Total rows with Score > 5: {len(rows_over_5)}\")"
   ]
  },
  {
   "cell_type": "code",
   "execution_count": 7,
   "id": "e0838ab7",
   "metadata": {},
   "outputs": [
    {
     "name": "stderr",
     "output_type": "stream",
     "text": [
      "C:\\Users\\User\\AppData\\Local\\Temp\\ipykernel_9100\\3663047956.py:1: SettingWithCopyWarning: \n",
      "A value is trying to be set on a copy of a slice from a DataFrame.\n",
      "Try using .loc[row_indexer,col_indexer] = value instead\n",
      "\n",
      "See the caveats in the documentation: https://pandas.pydata.org/pandas-docs/stable/user_guide/indexing.html#returning-a-view-versus-a-copy\n",
      "  df_cleaned['Score'] = pd.to_numeric(df_cleaned['Score'], errors='coerce')\n"
     ]
    }
   ],
   "source": [
    "df_cleaned['Score'] = pd.to_numeric(df_cleaned['Score'], errors='coerce')\n",
    "df_cleaned = df_cleaned[df_cleaned['Score'].between(1, 5)]\n",
    "df_cleaned['Score'] = df_cleaned['Score'].astype(int)"
   ]
  },
  {
   "cell_type": "code",
   "execution_count": 8,
   "id": "40b73971",
   "metadata": {},
   "outputs": [],
   "source": [
    "lemmatizer = WordNetLemmatizer()\n",
    "stop_words = set(stopwords.words('english'))"
   ]
  },
  {
   "cell_type": "code",
   "execution_count": 9,
   "id": "d6e9e54c",
   "metadata": {},
   "outputs": [],
   "source": [
    "def preprocess_text(text):\n",
    "    text = str(text).lower()                      # lowercase\n",
    "    text = re.sub(r\"http\\S+|www\\S+\", \"\", text)    # eliminare link-uri\n",
    "    text = re.sub(r\"[^\\w\\s]\", \"\", text)           # eliminare punctuație\n",
    "    tokens = nltk.word_tokenize(text)             # tokenizare\n",
    "    tokens = [t for t in tokens if t not in stop_words]  # eliminare stopwords\n",
    "    tokens = [lemmatizer.lemmatize(t) for t in tokens]   # lematizare\n",
    "    return \" \".join(tokens)\n"
   ]
  },
  {
   "cell_type": "code",
   "execution_count": 10,
   "id": "015a1570",
   "metadata": {},
   "outputs": [],
   "source": [
    "df_cleaned['Summary'] = df_cleaned['Summary'].apply(preprocess_text)\n",
    "df_cleaned['Text'] = df_cleaned['Text'].apply(preprocess_text)"
   ]
  },
  {
   "cell_type": "code",
   "execution_count": 11,
   "id": "fd5afad2",
   "metadata": {},
   "outputs": [
    {
     "name": "stdout",
     "output_type": "stream",
     "text": [
      "Score\n",
      "1     52264\n",
      "2     29743\n",
      "3     42638\n",
      "4     80654\n",
      "5    363102\n",
      "Name: count, dtype: int64\n"
     ]
    }
   ],
   "source": [
    "print(df_cleaned['Score'].value_counts().sort_index())"
   ]
  },
  {
   "cell_type": "code",
   "execution_count": 14,
   "id": "5fa08518",
   "metadata": {},
   "outputs": [],
   "source": [
    "df_cleaned.to_csv('date/newReviews.csv', index=False)\n"
   ]
  },
  {
   "cell_type": "code",
   "execution_count": 13,
   "id": "f630bff4",
   "metadata": {},
   "outputs": [
    {
     "name": "stdout",
     "output_type": "stream",
     "text": [
      "PANDAS is saving to: d:\\Master\\Sem II\\BigData\\ProiectCod\\date\\ReviewsCleaned.csv\n"
     ]
    }
   ],
   "source": [
    "print(\"PANDAS is saving to:\", os.path.abspath(\"date/ReviewsCleaned.csv\"))"
   ]
  }
 ],
 "metadata": {
  "kernelspec": {
   "display_name": "Python 3",
   "language": "python",
   "name": "python3"
  },
  "language_info": {
   "codemirror_mode": {
    "name": "ipython",
    "version": 3
   },
   "file_extension": ".py",
   "mimetype": "text/x-python",
   "name": "python",
   "nbconvert_exporter": "python",
   "pygments_lexer": "ipython3",
   "version": "3.12.7"
  }
 },
 "nbformat": 4,
 "nbformat_minor": 5
}

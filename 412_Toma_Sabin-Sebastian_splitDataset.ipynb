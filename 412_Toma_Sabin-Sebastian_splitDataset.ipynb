{
 "cells": [
  {
   "cell_type": "code",
   "execution_count": null,
   "id": "23a0296c",
   "metadata": {},
   "outputs": [
    {
     "name": "stdout",
     "output_type": "stream",
     "text": [
      "Split realizat și fișiere salvate ca 'date/train.csv' și 'date/test.csv'\n"
     ]
    }
   ],
   "source": [
    "import pandas as pd\n",
    "from sklearn.model_selection import train_test_split\n",
    "\n",
    "# Încărcare dataset\n",
    "df = pd.read_csv('date/ReviewsCleaned.csv')\n",
    "\n",
    "# Split 80% train, 20% test\n",
    "train_df, test_df = train_test_split(df, test_size=0.2, random_state=42)\n",
    "\n",
    "# Salvare în fișiere noi\n",
    "train_df.to_csv('date/train.csv', index=False)\n",
    "test_df.to_csv('date/test.csv', index=False)\n",
    "\n",
    "print(\"Split realizat și fișiere salvate ca 'date/train.csv' și 'date/test.csv'\")\n"
   ]
  }
 ],
 "metadata": {
  "kernelspec": {
   "display_name": "Python 3",
   "language": "python",
   "name": "python3"
  },
  "language_info": {
   "codemirror_mode": {
    "name": "ipython",
    "version": 3
   },
   "file_extension": ".py",
   "mimetype": "text/x-python",
   "name": "python",
   "nbconvert_exporter": "python",
   "pygments_lexer": "ipython3",
   "version": "3.12.7"
  }
 },
 "nbformat": 4,
 "nbformat_minor": 5
}

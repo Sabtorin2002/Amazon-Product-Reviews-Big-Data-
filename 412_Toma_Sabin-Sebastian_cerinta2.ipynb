{
 "cells": [
  {
   "cell_type": "code",
   "execution_count": 10,
   "id": "068c7017",
   "metadata": {},
   "outputs": [],
   "source": [
    "from pyspark.sql import SparkSession\n",
    "from pyspark.sql.types import StructType, StructField, StringType, IntegerType\n",
    "from pyspark.sql.functions import col, avg\n",
    "from pyspark.sql.functions import to_date, date_format\n",
    "import os"
   ]
  },
  {
   "cell_type": "code",
   "execution_count": 11,
   "id": "e1904d17",
   "metadata": {},
   "outputs": [
    {
     "name": "stdout",
     "output_type": "stream",
     "text": [
      "d:\\Master\\Sem II\\BigData\\ProiectCod\\date\\ReviewsCleaned.csv\n"
     ]
    }
   ],
   "source": [
    "print(os.path.abspath(\"date/ReviewsCleaned.csv\"))"
   ]
  },
  {
   "cell_type": "code",
   "execution_count": 12,
   "id": "b5e8ad17",
   "metadata": {},
   "outputs": [
    {
     "name": "stdout",
     "output_type": "stream",
     "text": [
      "root\n",
      " |-- Id: integer (nullable = true)\n",
      " |-- ProductId: string (nullable = true)\n",
      " |-- UserId: string (nullable = true)\n",
      " |-- ProfileName: string (nullable = true)\n",
      " |-- HelpfulnessNumerator: integer (nullable = true)\n",
      " |-- HelpfulnessDenominator: integer (nullable = true)\n",
      " |-- Score: integer (nullable = true)\n",
      " |-- Summary: string (nullable = true)\n",
      " |-- Text: string (nullable = true)\n",
      " |-- ReadableTime: string (nullable = true)\n",
      "\n",
      "+---+----------+--------------+--------------------+--------------------+----------------------+-----+--------------------+--------------------+------------+\n",
      "| Id| ProductId|        UserId|         ProfileName|HelpfulnessNumerator|HelpfulnessDenominator|Score|             Summary|                Text|ReadableTime|\n",
      "+---+----------+--------------+--------------------+--------------------+----------------------+-----+--------------------+--------------------+------------+\n",
      "|  1|B001E4KFG0|A3SGXH7AUHU8GW|          delmartian|                   1|                     1|    5|good quality dog ...|bought several vi...|  2011-04-27|\n",
      "|  2|B00813GRG4|A1D87F6ZCVE5NK|              dll pa|                   0|                     0|    1|          advertised|product arrived l...|  2012-09-07|\n",
      "|  3|B000LQOCH0| ABXLMWJIXXAIN|\"Natalia Corres \"...|                   1|                     1|    4|         delight say|confection around...|  2008-08-18|\n",
      "|  4|B000UA0QIQ|A395BORC6FGVXV|                Karl|                   3|                     3|    2|      cough medicine|looking secret in...|  2011-06-13|\n",
      "|  5|B006K2ZZ7K|A1UQRSCLF8GW1T|\"Michael D. Bigha...|                   0|                     0|    5|         great taffy|great taffy great...|  2012-10-21|\n",
      "+---+----------+--------------+--------------------+--------------------+----------------------+-----+--------------------+--------------------+------------+\n",
      "only showing top 5 rows\n",
      "\n"
     ]
    }
   ],
   "source": [
    "spark = SparkSession.builder \\\n",
    "    .appName(\"Review analysis\") \\\n",
    "    .getOrCreate()\n",
    "\n",
    "schema = StructType([\n",
    "    StructField(\"Id\", IntegerType(), True),\n",
    "    StructField(\"ProductId\", StringType(), True),\n",
    "    StructField(\"UserId\", StringType(), True),\n",
    "    StructField(\"ProfileName\", StringType(), True),\n",
    "    StructField(\"HelpfulnessNumerator\", IntegerType(), True),\n",
    "    StructField(\"HelpfulnessDenominator\", IntegerType(), True),\n",
    "    StructField(\"Score\", IntegerType(), True),  # this is key\n",
    "    StructField(\"Summary\", StringType(), True),\n",
    "    StructField(\"Text\", StringType(), True),\n",
    "    StructField(\"ReadableTime\", StringType(), True),\n",
    "])\n",
    "\n",
    "df = spark.read.csv(\"date/ReviewsCleaned.csv\", header=True, schema=schema)\n",
    "\n",
    "\n",
    "df.printSchema()\n",
    "df.show(5)"
   ]
  },
  {
   "cell_type": "code",
   "execution_count": 13,
   "id": "c131774c",
   "metadata": {},
   "outputs": [
    {
     "name": "stdout",
     "output_type": "stream",
     "text": [
      "+--------------+-----+\n",
      "|        UserId|count|\n",
      "+--------------+-----+\n",
      "|A3OXHLG6DIBRW8|  448|\n",
      "|A1YUL9PCJR3JTY|  421|\n",
      "| AY12DBB0U420B|  389|\n",
      "|A281NPSIMI1C2R|  365|\n",
      "|A1Z54EM24Y40LL|  256|\n",
      "|A1TMAVN4CEM8U8|  204|\n",
      "|A2MUGFV2TDQ47K|  201|\n",
      "|A3TVZM3ZIXG8YW|  199|\n",
      "|A3PJZ8TU8FDQ1K|  178|\n",
      "| AQQLWCMRNDFGI|  176|\n",
      "+--------------+-----+\n",
      "only showing top 10 rows\n",
      "\n"
     ]
    }
   ],
   "source": [
    "df.groupBy(\"UserId\").count().orderBy(\"count\", ascending=False).show(10)\n"
   ]
  },
  {
   "cell_type": "code",
   "execution_count": 14,
   "id": "635f43c7",
   "metadata": {},
   "outputs": [],
   "source": [
    "df.createOrReplaceTempView(\"reviews\")"
   ]
  },
  {
   "cell_type": "code",
   "execution_count": 15,
   "id": "166cdf84",
   "metadata": {},
   "outputs": [
    {
     "name": "stdout",
     "output_type": "stream",
     "text": [
      "+--------------------+-----------+\n",
      "|         ProfileName|num_reviews|\n",
      "+--------------------+-----------+\n",
      "|\"C. F. Hill \"\"CFH\"\"\"|        451|\n",
      "|\"O. Brown \"\"Ms. O...|        421|\n",
      "|       Gary Peterson|        389|\n",
      "|\"Rebecca of Amazo...|        365|\n",
      "|               Chris|        363|\n",
      "+--------------------+-----------+\n",
      "\n"
     ]
    }
   ],
   "source": [
    "\n",
    "spark.sql(\"\"\"\n",
    "    SELECT ProfileName, COUNT(*) as num_reviews\n",
    "    FROM reviews\n",
    "    GROUP BY ProfileName\n",
    "    ORDER BY num_reviews DESC\n",
    "    LIMIT 5\n",
    "\"\"\").show()"
   ]
  },
  {
   "cell_type": "code",
   "execution_count": 16,
   "id": "3a303b92",
   "metadata": {},
   "outputs": [
    {
     "name": "stdout",
     "output_type": "stream",
     "text": [
      "+---+----------+--------------+---------------------------------+--------------------+----------------------+-----+--------------------------+----------------------------------------------------------------------------------------------------------------------------------------------------------------------------------------------------------------------------------------------------------------------------------------------------------------------------------------------------------------------------------------------------------------------------------------------------------------------------------------------------------------------------------------------------+------------+------------+\n",
      "|Id |ProductId |UserId        |ProfileName                      |HelpfulnessNumerator|HelpfulnessDenominator|Score|Summary                   |Text                                                                                                                                                                                                                                                                                                                                                                                                                                                                                                                                                |ReadableTime|ReadableDate|\n",
      "+---+----------+--------------+---------------------------------+--------------------+----------------------+-----+--------------------------+----------------------------------------------------------------------------------------------------------------------------------------------------------------------------------------------------------------------------------------------------------------------------------------------------------------------------------------------------------------------------------------------------------------------------------------------------------------------------------------------------------------------------------------------------+------------+------------+\n",
      "|1  |B001E4KFG0|A3SGXH7AUHU8GW|delmartian                       |1                   |1                     |5    |good quality dog food     |bought several vitality canned dog food product found good quality product look like stew processed meat smell better labrador finicky appreciates product better                                                                                                                                                                                                                                                                                                                                                                                   |2011-04-27  |2011-04-27  |\n",
      "|2  |B00813GRG4|A1D87F6ZCVE5NK|dll pa                           |0                   |0                     |1    |advertised                |product arrived labeled jumbo salted peanutsthe peanut actually small sized unsalted sure error vendor intended represent product jumbo                                                                                                                                                                                                                                                                                                                                                                                                             |2012-09-07  |2012-09-07  |\n",
      "|4  |B000UA0QIQ|A395BORC6FGVXV|Karl                             |3                   |3                     |2    |cough medicine            |looking secret ingredient robitussin believe found got addition root beer extract ordered good made cherry soda flavor medicinal                                                                                                                                                                                                                                                                                                                                                                                                                    |2011-06-13  |2011-06-13  |\n",
      "|5  |B006K2ZZ7K|A1UQRSCLF8GW1T|\"Michael D. Bigham \"\"M. Wassir\"\"\"|0                   |0                     |5    |great taffy               |great taffy great price wide assortment yummy taffy delivery quick taffy lover deal                                                                                                                                                                                                                                                                                                                                                                                                                                                                 |2012-10-21  |2012-10-21  |\n",
      "|6  |B006K2ZZ7K|ADT0SRK1MGOEU |Twoapennything                   |0                   |0                     |4    |nice taffy                |got wild hair taffy ordered five pound bag taffy enjoyable many flavor watermelon root beer melon peppermint grape etc complaint bit much redblack licoriceflavored piece particular favorite kid husband lasted two week would recommend brand taffy delightful treat                                                                                                                                                                                                                                                                              |2012-07-12  |2012-07-12  |\n",
      "|7  |B006K2ZZ7K|A1SP2KVKFXXRU1|David C. Sullivan                |0                   |0                     |5    |great good expensive brand|saltwater taffy great flavor soft chewy candy individually wrapped well none candy stuck together happen expensive version fralingers would highly recommend candy served beachthemed party everyone loved                                                                                                                                                                                                                                                                                                                                          |2012-06-20  |2012-06-20  |\n",
      "|8  |B006K2ZZ7K|A3JRGQVEQN31IQ|Pamela G. Williams               |0                   |0                     |5    |wonderful tasty taffy     |taffy good soft chewy flavor amazing would definitely recommend buying satisfying                                                                                                                                                                                                                                                                                                                                                                                                                                                                   |2012-05-03  |2012-05-03  |\n",
      "|9  |B000E7L2R4|A1MZYO9TZK0BBI|R. James                         |1                   |1                     |5    |yay barley                |right im mostly sprouting cat eat grass love rotate around wheatgrass rye                                                                                                                                                                                                                                                                                                                                                                                                                                                                           |2011-11-23  |2011-11-23  |\n",
      "|10 |B00171APVA|A21BT40VZCCYT4|Carol A. Reed                    |0                   |0                     |5    |healthy dog food          |healthy dog food good digestion also good small puppy dog eats required amount every feeding                                                                                                                                                                                                                                                                                                                                                                                                                                                        |2012-10-26  |2012-10-26  |\n",
      "|13 |B0009XLVG0|A327PCT23YH90 |LT                               |1                   |1                     |1    |cat fan new food          |cat happily eating felidae platinum two year got new bag shape food different tried new food first put bowl bowl sit full kitty touch food ive noticed similar review related formula change past unfortunately need find new food cat eat                                                                                                                                                                                                                                                                                                          |2012-06-13  |2012-06-13  |\n",
      "|17 |B001GVISJM|A3KLWF6WQ5BNYO|Erica Neathery                   |0                   |0                     |2    |poor taste                |love eating good watching tv looking movie sweet like transfer zip lock baggie stay fresh take time eating                                                                                                                                                                                                                                                                                                                                                                                                                                          |2012-09-20  |2012-09-20  |\n",
      "|18 |B001GVISJM|AFKW14U97Z6QO |Becca                            |0                   |0                     |5    |love                      |satisfied twizzler purchase shared others enjoyed definitely ordering                                                                                                                                                                                                                                                                                                                                                                                                                                                                               |2012-08-16  |2012-08-16  |\n",
      "|19 |B001GVISJM|A2A9X58G2GTBLP|Wolfee1                          |0                   |0                     |5    |great sweet candy         |twizzlers strawberry childhood favorite candy made lancaster pennsylvania candy inc one oldest confectionery firm united state subsidiary hershey company company established 1845 young smylie also make apple licorice twist green color blue raspberry licorice twist like allbr br keep dry cool place recommended put fridge according guinness book record longest licorice twist ever made measured 1200 foot 370 weighted 100 pound 45 kg made candy inc recordbreaking twist became guinness world record july 19 1998 product kosher thank|2011-12-23  |2011-12-23  |\n",
      "|20 |B001GVISJM|A3IV7CL2C13K2U|Greg                             |0                   |0                     |5    |home delivered twizlers   |candy delivered fast purchased reasonable price home bound unable get store perfect                                                                                                                                                                                                                                                                                                                                                                                                                                                                 |2011-10-08  |2011-10-08  |\n",
      "|21 |B001GVISJM|A1WO0KGLPR5PV6|mom2emma                         |0                   |0                     |5    |always fresh              |husband twizzlers addict weve bought many time amazon government employee living overseas cant get country assigned theyve always fresh tasty packed well arrive timely manner                                                                                                                                                                                                                                                                                                                                                                      |2011-08-16  |2011-08-16  |\n",
      "|22 |B001GVISJM|AZOF9E17RGZH8 |Tammy Anderson                   |0                   |0                     |5    |twizzlers                 |bought husband currently overseas love apparently staff like alsobr generous amount twizzlers 16ounce bag well worth price href strawberry 16ounce bag pack 6a                                                                                                                                                                                                                                                                                                                                                                                      |2011-06-25  |2011-06-25  |\n",
      "|23 |B001GVISJM|ARYVQL4N737A1 |Charles Brown                    |0                   |0                     |5    |delicious product         |remember buying candy kid quality hasnt dropped year still superb product wont disappointed                                                                                                                                                                                                                                                                                                                                                                                                                                                         |2011-05-09  |2011-05-09  |\n",
      "|24 |B001GVISJM|AJ613OLZZUG7V |Mare's                           |0                   |0                     |5    |twizzlers                 |love candy weight watcher cut back still craving                                                                                                                                                                                                                                                                                                                                                                                                                                                                                                    |2011-05-04  |2011-05-04  |\n",
      "|25 |B001GVISJM|A22P2J09NJ9HKE|\"S. Cabanaugh \"\"jilly pepper\"\"\"  |0                   |0                     |5    |please sell mexico        |lived u 7 yr miss twizzlers go back visit someone visit always stock say yumbr sell mexico faithful buyer often im able buy right                                                                                                                                                                                                                                                                                                                                                                                                                   |2011-01-20  |2011-01-20  |\n",
      "|27 |B001GVISJM|A3RXAU2N8KV45G|lady21                           |0                   |1                     |1    |nasty flavor              |candy red flavor plan chewy would never buy                                                                                                                                                                                                                                                                                                                                                                                                                                                                                                         |2012-03-25  |2012-03-25  |\n",
      "+---+----------+--------------+---------------------------------+--------------------+----------------------+-----+--------------------------+----------------------------------------------------------------------------------------------------------------------------------------------------------------------------------------------------------------------------------------------------------------------------------------------------------------------------------------------------------------------------------------------------------------------------------------------------------------------------------------------------------------------------------------------------+------------+------------+\n",
      "only showing top 20 rows\n",
      "\n"
     ]
    }
   ],
   "source": [
    "df = df.withColumn(\"ReadableDate\", to_date(col(\"ReadableTime\")))\n",
    "\n",
    "# Filtrare după 01-01-2011\n",
    "df_filtered = df.filter(col(\"ReadableDate\") > \"2011-01-01\")\n",
    "\n",
    "# Afișare rezultate\n",
    "df_filtered.show(truncate=False)"
   ]
  },
  {
   "cell_type": "code",
   "execution_count": null,
   "id": "6ee1b024",
   "metadata": {},
   "outputs": [
    {
     "name": "stdout",
     "output_type": "stream",
     "text": [
      "+---+----------+--------------+---------------------------------+--------------------+----------------------+-----+--------------------------+----------------------------------------------------------------------------------------------------------------------------------------------------------------------------------------------------------------------------------------------------------------------------------------------------------------------------------------------------------------------------------------------------------------------------------------------------------------------------------------------------------------------------------------------------+------------+------------+\n",
      "|Id |ProductId |UserId        |ProfileName                      |HelpfulnessNumerator|HelpfulnessDenominator|Score|Summary                   |Text                                                                                                                                                                                                                                                                                                                                                                                                                                                                                                                                                |ReadableTime|ReadableDate|\n",
      "+---+----------+--------------+---------------------------------+--------------------+----------------------+-----+--------------------------+----------------------------------------------------------------------------------------------------------------------------------------------------------------------------------------------------------------------------------------------------------------------------------------------------------------------------------------------------------------------------------------------------------------------------------------------------------------------------------------------------------------------------------------------------+------------+------------+\n",
      "|1  |B001E4KFG0|A3SGXH7AUHU8GW|delmartian                       |1                   |1                     |5    |good quality dog food     |bought several vitality canned dog food product found good quality product look like stew processed meat smell better labrador finicky appreciates product better                                                                                                                                                                                                                                                                                                                                                                                   |2011-04-27  |2011-04-27  |\n",
      "|2  |B00813GRG4|A1D87F6ZCVE5NK|dll pa                           |0                   |0                     |1    |advertised                |product arrived labeled jumbo salted peanutsthe peanut actually small sized unsalted sure error vendor intended represent product jumbo                                                                                                                                                                                                                                                                                                                                                                                                             |2012-09-07  |2012-09-07  |\n",
      "|4  |B000UA0QIQ|A395BORC6FGVXV|Karl                             |3                   |3                     |2    |cough medicine            |looking secret ingredient robitussin believe found got addition root beer extract ordered good made cherry soda flavor medicinal                                                                                                                                                                                                                                                                                                                                                                                                                    |2011-06-13  |2011-06-13  |\n",
      "|5  |B006K2ZZ7K|A1UQRSCLF8GW1T|\"Michael D. Bigham \"\"M. Wassir\"\"\"|0                   |0                     |5    |great taffy               |great taffy great price wide assortment yummy taffy delivery quick taffy lover deal                                                                                                                                                                                                                                                                                                                                                                                                                                                                 |2012-10-21  |2012-10-21  |\n",
      "|6  |B006K2ZZ7K|ADT0SRK1MGOEU |Twoapennything                   |0                   |0                     |4    |nice taffy                |got wild hair taffy ordered five pound bag taffy enjoyable many flavor watermelon root beer melon peppermint grape etc complaint bit much redblack licoriceflavored piece particular favorite kid husband lasted two week would recommend brand taffy delightful treat                                                                                                                                                                                                                                                                              |2012-07-12  |2012-07-12  |\n",
      "|7  |B006K2ZZ7K|A1SP2KVKFXXRU1|David C. Sullivan                |0                   |0                     |5    |great good expensive brand|saltwater taffy great flavor soft chewy candy individually wrapped well none candy stuck together happen expensive version fralingers would highly recommend candy served beachthemed party everyone loved                                                                                                                                                                                                                                                                                                                                          |2012-06-20  |2012-06-20  |\n",
      "|8  |B006K2ZZ7K|A3JRGQVEQN31IQ|Pamela G. Williams               |0                   |0                     |5    |wonderful tasty taffy     |taffy good soft chewy flavor amazing would definitely recommend buying satisfying                                                                                                                                                                                                                                                                                                                                                                                                                                                                   |2012-05-03  |2012-05-03  |\n",
      "|9  |B000E7L2R4|A1MZYO9TZK0BBI|R. James                         |1                   |1                     |5    |yay barley                |right im mostly sprouting cat eat grass love rotate around wheatgrass rye                                                                                                                                                                                                                                                                                                                                                                                                                                                                           |2011-11-23  |2011-11-23  |\n",
      "|10 |B00171APVA|A21BT40VZCCYT4|Carol A. Reed                    |0                   |0                     |5    |healthy dog food          |healthy dog food good digestion also good small puppy dog eats required amount every feeding                                                                                                                                                                                                                                                                                                                                                                                                                                                        |2012-10-26  |2012-10-26  |\n",
      "|13 |B0009XLVG0|A327PCT23YH90 |LT                               |1                   |1                     |1    |cat fan new food          |cat happily eating felidae platinum two year got new bag shape food different tried new food first put bowl bowl sit full kitty touch food ive noticed similar review related formula change past unfortunately need find new food cat eat                                                                                                                                                                                                                                                                                                          |2012-06-13  |2012-06-13  |\n",
      "|17 |B001GVISJM|A3KLWF6WQ5BNYO|Erica Neathery                   |0                   |0                     |2    |poor taste                |love eating good watching tv looking movie sweet like transfer zip lock baggie stay fresh take time eating                                                                                                                                                                                                                                                                                                                                                                                                                                          |2012-09-20  |2012-09-20  |\n",
      "|18 |B001GVISJM|AFKW14U97Z6QO |Becca                            |0                   |0                     |5    |love                      |satisfied twizzler purchase shared others enjoyed definitely ordering                                                                                                                                                                                                                                                                                                                                                                                                                                                                               |2012-08-16  |2012-08-16  |\n",
      "|19 |B001GVISJM|A2A9X58G2GTBLP|Wolfee1                          |0                   |0                     |5    |great sweet candy         |twizzlers strawberry childhood favorite candy made lancaster pennsylvania candy inc one oldest confectionery firm united state subsidiary hershey company company established 1845 young smylie also make apple licorice twist green color blue raspberry licorice twist like allbr br keep dry cool place recommended put fridge according guinness book record longest licorice twist ever made measured 1200 foot 370 weighted 100 pound 45 kg made candy inc recordbreaking twist became guinness world record july 19 1998 product kosher thank|2011-12-23  |2011-12-23  |\n",
      "|20 |B001GVISJM|A3IV7CL2C13K2U|Greg                             |0                   |0                     |5    |home delivered twizlers   |candy delivered fast purchased reasonable price home bound unable get store perfect                                                                                                                                                                                                                                                                                                                                                                                                                                                                 |2011-10-08  |2011-10-08  |\n",
      "|21 |B001GVISJM|A1WO0KGLPR5PV6|mom2emma                         |0                   |0                     |5    |always fresh              |husband twizzlers addict weve bought many time amazon government employee living overseas cant get country assigned theyve always fresh tasty packed well arrive timely manner                                                                                                                                                                                                                                                                                                                                                                      |2011-08-16  |2011-08-16  |\n",
      "|22 |B001GVISJM|AZOF9E17RGZH8 |Tammy Anderson                   |0                   |0                     |5    |twizzlers                 |bought husband currently overseas love apparently staff like alsobr generous amount twizzlers 16ounce bag well worth price href strawberry 16ounce bag pack 6a                                                                                                                                                                                                                                                                                                                                                                                      |2011-06-25  |2011-06-25  |\n",
      "|23 |B001GVISJM|ARYVQL4N737A1 |Charles Brown                    |0                   |0                     |5    |delicious product         |remember buying candy kid quality hasnt dropped year still superb product wont disappointed                                                                                                                                                                                                                                                                                                                                                                                                                                                         |2011-05-09  |2011-05-09  |\n",
      "|24 |B001GVISJM|AJ613OLZZUG7V |Mare's                           |0                   |0                     |5    |twizzlers                 |love candy weight watcher cut back still craving                                                                                                                                                                                                                                                                                                                                                                                                                                                                                                    |2011-05-04  |2011-05-04  |\n",
      "|25 |B001GVISJM|A22P2J09NJ9HKE|\"S. Cabanaugh \"\"jilly pepper\"\"\"  |0                   |0                     |5    |please sell mexico        |lived u 7 yr miss twizzlers go back visit someone visit always stock say yumbr sell mexico faithful buyer often im able buy right                                                                                                                                                                                                                                                                                                                                                                                                                   |2011-01-20  |2011-01-20  |\n",
      "|27 |B001GVISJM|A3RXAU2N8KV45G|lady21                           |0                   |1                     |1    |nasty flavor              |candy red flavor plan chewy would never buy                                                                                                                                                                                                                                                                                                                                                                                                                                                                                                         |2012-03-25  |2012-03-25  |\n",
      "+---+----------+--------------+---------------------------------+--------------------+----------------------+-----+--------------------------+----------------------------------------------------------------------------------------------------------------------------------------------------------------------------------------------------------------------------------------------------------------------------------------------------------------------------------------------------------------------------------------------------------------------------------------------------------------------------------------------------------------------------------------------------+------------+------------+\n",
      "only showing top 20 rows\n",
      "\n"
     ]
    }
   ],
   "source": [
    "df.createOrReplaceTempView(\"reviews\")\n",
    "\n",
    "# Rulare interogarea\n",
    "spark.sql(\"\"\"\n",
    "    SELECT *\n",
    "    FROM reviews\n",
    "    WHERE to_date(ReadableTime) > '2011-01-01'\n",
    "\"\"\").show(truncate=False)"
   ]
  }
 ],
 "metadata": {
  "kernelspec": {
   "display_name": "Python 3",
   "language": "python",
   "name": "python3"
  },
  "language_info": {
   "codemirror_mode": {
    "name": "ipython",
    "version": 3
   },
   "file_extension": ".py",
   "mimetype": "text/x-python",
   "name": "python",
   "nbconvert_exporter": "python",
   "pygments_lexer": "ipython3",
   "version": "3.12.7"
  }
 },
 "nbformat": 4,
 "nbformat_minor": 5
}

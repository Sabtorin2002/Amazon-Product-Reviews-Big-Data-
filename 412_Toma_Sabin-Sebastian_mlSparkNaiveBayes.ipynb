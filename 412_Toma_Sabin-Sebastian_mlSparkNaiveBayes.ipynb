{
 "cells": [
  {
   "cell_type": "code",
   "execution_count": 3,
   "id": "882c329f",
   "metadata": {},
   "outputs": [],
   "source": [
    "from pyspark.sql import SparkSession\n",
    "from pyspark.sql.functions import concat_ws\n",
    "from pyspark.ml.feature import Tokenizer, StopWordsRemover, HashingTF, IDF, StringIndexer\n",
    "from pyspark.ml.classification import NaiveBayes\n",
    "from pyspark.ml import Pipeline\n",
    "from pyspark.ml.evaluation import MulticlassClassificationEvaluator\n"
   ]
  },
  {
   "cell_type": "code",
   "execution_count": null,
   "id": "fef94e89",
   "metadata": {},
   "outputs": [
    {
     "name": "stdout",
     "output_type": "stream",
     "text": [
      "=== Evaluation Metrics (Naive Bayes) ===\n",
      "Accuracy       : 0.6908\n",
      "Precision      : 0.6847\n",
      "Recall         : 0.6908\n",
      "F1 Score       : 0.6872\n"
     ]
    }
   ],
   "source": [
    "# 1. Spark session\n",
    "spark = SparkSession.builder.appName(\"ReviewScoreClassification_NB\").getOrCreate()\n",
    "\n",
    "# 2. Load data\n",
    "train_df = spark.read.csv(\"date/train.csv\", header=True, inferSchema=True)\n",
    "test_df = spark.read.csv(\"date/test.csv\", header=True, inferSchema=True)\n",
    "\n",
    "# 3. Combine 'Text' and 'Summary'\n",
    "train_df = train_df.withColumn(\"combined_text\", concat_ws(\" \", \"Summary\", \"Text\"))\n",
    "test_df = test_df.withColumn(\"combined_text\", concat_ws(\" \", \"Summary\", \"Text\"))\n",
    "\n",
    "# 4. NLP preprocessing\n",
    "tokenizer = Tokenizer(inputCol=\"combined_text\", outputCol=\"words\")\n",
    "remover = StopWordsRemover(inputCol=\"words\", outputCol=\"filtered\")\n",
    "hashingTF = HashingTF(inputCol=\"filtered\", outputCol=\"rawFeatures\", numFeatures=10000)\n",
    "\n",
    "# Note: Naive Bayes expects raw term frequencies (TF), not TF-IDF.\n",
    "# So we skip IDF and feed 'rawFeatures' directly to the classifier.\n",
    "\n",
    "# 5. Label encoding\n",
    "label_indexer = StringIndexer(inputCol=\"Score\", outputCol=\"label\", handleInvalid=\"skip\")\n",
    "\n",
    "# 6. Classifier: Naive Bayes\n",
    "nb = NaiveBayes(labelCol=\"label\", featuresCol=\"rawFeatures\", modelType=\"multinomial\", smoothing=0.9)\n",
    "\n",
    "# 7. Pipeline\n",
    "pipeline = Pipeline(stages=[tokenizer, remover, hashingTF, label_indexer, nb])\n",
    "\n",
    "# 8. Train model\n",
    "model = pipeline.fit(train_df)\n",
    "\n",
    "# 9. Predictions\n",
    "predictions = model.transform(test_df)\n",
    "\n",
    "# 10. Evaluation\n",
    "evaluator_accuracy = MulticlassClassificationEvaluator(labelCol=\"label\", predictionCol=\"prediction\", metricName=\"accuracy\")\n",
    "evaluator_precision = MulticlassClassificationEvaluator(labelCol=\"label\", predictionCol=\"prediction\", metricName=\"weightedPrecision\")\n",
    "evaluator_recall = MulticlassClassificationEvaluator(labelCol=\"label\", predictionCol=\"prediction\", metricName=\"weightedRecall\")\n",
    "evaluator_f1 = MulticlassClassificationEvaluator(labelCol=\"label\", predictionCol=\"prediction\", metricName=\"f1\")\n",
    "\n",
    "accuracy = evaluator_accuracy.evaluate(predictions)\n",
    "precision = evaluator_precision.evaluate(predictions)\n",
    "recall = evaluator_recall.evaluate(predictions)\n",
    "f1 = evaluator_f1.evaluate(predictions)\n",
    "\n",
    "print(\"=== Evaluation Metrics (Naive Bayes) ===\")\n",
    "print(f\"Accuracy       : {accuracy:.4f}\")\n",
    "print(f\"Precision      : {precision:.4f}\")\n",
    "print(f\"Recall         : {recall:.4f}\")\n",
    "print(f\"F1 Score       : {f1:.4f}\")"
   ]
  }
 ],
 "metadata": {
  "kernelspec": {
   "display_name": "Python 3",
   "language": "python",
   "name": "python3"
  },
  "language_info": {
   "codemirror_mode": {
    "name": "ipython",
    "version": 3
   },
   "file_extension": ".py",
   "mimetype": "text/x-python",
   "name": "python",
   "nbconvert_exporter": "python",
   "pygments_lexer": "ipython3",
   "version": "3.12.7"
  }
 },
 "nbformat": 4,
 "nbformat_minor": 5
}
